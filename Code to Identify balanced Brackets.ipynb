{
 "cells": [
  {
   "cell_type": "code",
   "execution_count": 3,
   "id": "84474cdd-2982-4903-9c35-f5991da5d7a1",
   "metadata": {},
   "outputs": [
    {
     "name": "stdin",
     "output_type": "stream",
     "text": [
      " [](){[]()(){}}\n"
     ]
    },
    {
     "name": "stdout",
     "output_type": "stream",
     "text": [
      "No\n"
     ]
    }
   ],
   "source": [
    "#take input\n",
    "inp=input()\n",
    "\n",
    "stack=[]\n",
    "\n",
    "for i in inp:\n",
    "    if len(stack)==0:\n",
    "        stack.append(i)\n",
    "    else:\n",
    "        if i=='(' and stack[-1]==')':\n",
    "            stack.pop()\n",
    "        elif i=='[' and stack[-1]==']':\n",
    "            stack.pop()\n",
    "        elif i=='{' and stack[-1]=='}':\n",
    "            stack.pop()\n",
    "        else:\n",
    "            stack.append(i)\n",
    "if stack:\n",
    "    print('No')\n",
    "else:\n",
    "    print('Yes')\n",
    "            \n",
    "\n"
   ]
  }
 ],
 "metadata": {
  "kernelspec": {
   "display_name": "Python 3 (ipykernel)",
   "language": "python",
   "name": "python3"
  },
  "language_info": {
   "codemirror_mode": {
    "name": "ipython",
    "version": 3
   },
   "file_extension": ".py",
   "mimetype": "text/x-python",
   "name": "python",
   "nbconvert_exporter": "python",
   "pygments_lexer": "ipython3",
   "version": "3.12.3"
  }
 },
 "nbformat": 4,
 "nbformat_minor": 5
}
